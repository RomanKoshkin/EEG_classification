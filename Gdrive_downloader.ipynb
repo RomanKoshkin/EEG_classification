{
 "cells": [
  {
   "cell_type": "code",
   "execution_count": 1,
   "metadata": {},
   "outputs": [
    {
     "name": "stdout",
     "output_type": "stream",
     "text": [
      "Name: NeoRec_2018-07-05_15-33-44.eeg\n",
      "Download Progress: 4\n",
      "Download Progress: 9\n",
      "Download Progress: 13\n",
      "Download Progress: 18\n",
      "Download Progress: 22\n",
      "Download Progress: 27\n",
      "Download Progress: 32\n",
      "Download Progress: 36\n",
      "Download Progress: 41\n",
      "Download Progress: 45\n",
      "Download Progress: 50\n",
      "Download Progress: 55\n",
      "Download Progress: 59\n",
      "Download Progress: 64\n",
      "Download Progress: 68\n",
      "Download Progress: 73\n",
      "Download Progress: 78\n",
      "Download Progress: 82\n",
      "Download Progress: 87\n",
      "Download Progress: 91\n",
      "Download Progress: 96\n",
      "Download Progress: 100\n",
      "Download Complete\n"
     ]
    }
   ],
   "source": [
    "from URL_download_2 import gdown\n",
    "# file_id = '13fwf4uud01MVUh4bjZNiVXSaFRAH67vS'\n",
    "# file_id = '1SlN6eSUcGIIxWPELZfYtxprb0bCjjp8f'\n",
    "# file_id = '1wwM1r_cNZ6noAEn3C1H4MJ3_c-puxkF3' # NeoRec_2018-07-07_14-07-24.eeg\n",
    "\n",
    "file_id = '1Af1dCWbuHwFdyWPYJY98xwH5UBiWdViS'   # NeoRec_2018-07-05_15-33-44.eeg\n",
    "# file_id = '1R70aKq32kzF4PrQMalkrVxQ2XMpaStTL' # NeoRec_2018-07-05_15-33-44.vmrk\n",
    "# file_id = '1fsRRSP8KuDU_pGh75CPuYJbkm-qQpzOp' # NeoRec_2018-07-05_15-33-44.vhdr\n",
    "\n",
    "# file_id = '1ufdyavyUP4PnsyyUOZf9jzHYEUdWJQcV' #a5july.mat\n",
    "# instantiate class (create a class instance):\n",
    "G = gdown()\n",
    "\n",
    "# Download data from Google Drive as necessary:\n",
    "G.download_file(file_id)"
   ]
  },
  {
   "cell_type": "code",
   "execution_count": null,
   "metadata": {},
   "outputs": [],
   "source": []
  },
  {
   "cell_type": "code",
   "execution_count": null,
   "metadata": {},
   "outputs": [],
   "source": []
  }
 ],
 "metadata": {
  "kernelspec": {
   "display_name": "Python 3",
   "language": "python",
   "name": "python3"
  },
  "language_info": {
   "codemirror_mode": {
    "name": "ipython",
    "version": 3
   },
   "file_extension": ".py",
   "mimetype": "text/x-python",
   "name": "python",
   "nbconvert_exporter": "python",
   "pygments_lexer": "ipython3",
   "version": "3.6.6"
  },
  "varInspector": {
   "cols": {
    "lenName": 16,
    "lenType": 16,
    "lenVar": 40
   },
   "kernels_config": {
    "python": {
     "delete_cmd_postfix": "",
     "delete_cmd_prefix": "del ",
     "library": "var_list.py",
     "varRefreshCmd": "print(var_dic_list())"
    },
    "r": {
     "delete_cmd_postfix": ") ",
     "delete_cmd_prefix": "rm(",
     "library": "var_list.r",
     "varRefreshCmd": "cat(var_dic_list()) "
    }
   },
   "types_to_exclude": [
    "module",
    "function",
    "builtin_function_or_method",
    "instance",
    "_Feature"
   ],
   "window_display": false
  }
 },
 "nbformat": 4,
 "nbformat_minor": 2
}
