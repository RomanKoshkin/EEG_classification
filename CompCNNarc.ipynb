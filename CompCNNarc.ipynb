{
 "cells": [
  {
   "cell_type": "code",
   "execution_count": null,
   "metadata": {},
   "outputs": [],
   "source": [
    "require(ggplot2)\n",
    "require(Rmisc)\n",
    "\n",
    "df4.meanc <- summarySE(df, measurevar=\"val_acc\", groupvars=c(\"algorithm\", \"dataset\"))\n",
    "\n",
    "pd <- position_dodge(0.1)\n",
    "ggplot(df4.meanc, aes(x=algorithm, y=val_acc, color=factor(dataset), group=factor(dataset))) + \n",
    "  geom_errorbar(aes(ymin=val_acc-se, ymax=val_acc+se), width=.1, position = pd) +\n",
    "  geom_line(aes(y=val_acc, group=dataset), size=1) +\n",
    "  theme(legend.position = \"bottom\",\n",
    "        axis.title.y = element_text(angle = 90, vjust=1),\n",
    "        axis.title.x=element_blank(),\n",
    "        axis.line.x = element_blank(),\n",
    "        axis.ticks.x = element_blank(),\n",
    "        axis.text = element_text(face='bold', size = 10)) +\n",
    "  labs(color = \"Dataset: \") +\n",
    "  scale_y_continuous(expand = c(0, 0), breaks = c(0, 0.5, 1), limits = c(0, 1)) +\n",
    "  geom_point() +\n",
    "  ggtitle(\"Performance of 3 CNNs on 3 different datasets\")\n"
   ]
  },
  {
   "cell_type": "code",
   "execution_count": null,
   "metadata": {},
   "outputs": [],
   "source": []
  }
 ],
 "metadata": {
  "kernelspec": {
   "display_name": "R",
   "language": "R",
   "name": "ir"
  }
 },
 "nbformat": 4,
 "nbformat_minor": 2
}
