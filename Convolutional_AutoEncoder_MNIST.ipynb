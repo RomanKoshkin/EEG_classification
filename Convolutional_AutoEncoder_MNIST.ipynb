{
 "cells": [
  {
   "cell_type": "code",
   "execution_count": 1,
   "metadata": {},
   "outputs": [
    {
     "name": "stderr",
     "output_type": "stream",
     "text": [
      "Using TensorFlow backend.\n"
     ]
    }
   ],
   "source": [
    "# make sure you don't hog all the video memory\n",
    "import tensorflow as tf\n",
    "config = tf.ConfigProto()\n",
    "config.gpu_options.allow_growth = True\n",
    "sess = tf.Session(config=config)\n",
    "from keras import backend as K\n",
    "K.set_session(sess)\n",
    "###################################\n",
    "\n",
    "# we first define the autoencoder's architecture:\n",
    "\n",
    "from keras.layers import Input, Dense, Conv2D, MaxPooling2D, UpSampling2D\n",
    "from keras.models import Model\n",
    "from keras import backend as K\n",
    "from keras.models import load_model\n",
    "from keras.callbacks import TensorBoard\n",
    "import numpy as np\n",
    "import matplotlib.pyplot as plt\n",
    "\n",
    "def Encoder():\n",
    "    input_img = Input(shape=(28, 28, 1))  # adapt this if using `channels_first` image data format   \n",
    "    e1 = Conv2D(16, (3, 3), activation='relu', padding='same')(input_img)\n",
    "    e2 = MaxPooling2D((2, 2), padding='same')(e1)\n",
    "    e3 = Conv2D(8, (3, 3), activation='relu', padding='same')(e2)\n",
    "    e4 = MaxPooling2D((2, 2), padding='same')(e3)\n",
    "    e5 = Conv2D(8, (3, 3), activation='relu', padding='same')(e4)\n",
    "    e6 = MaxPooling2D((2, 2), padding='same')(e5)\n",
    "    return Model(input_img, e6)\n",
    "\n",
    "def Decoder():\n",
    "    input_img = Input(shape=(4, 4, 8))  # adapt this if using `channels_first` image data format   \n",
    "    d1 = Conv2D(8, (3, 3), activation='relu', padding='same')(input_img)\n",
    "    d2 = UpSampling2D((2, 2))(d1)\n",
    "    d3 = Conv2D(8, (3, 3), activation='relu', padding='same')(d2)\n",
    "    d4 = UpSampling2D((2, 2))(d3)\n",
    "    d5 = Conv2D(16, (3, 3), activation='relu')(d4)\n",
    "    d6 = UpSampling2D((2, 2))(d5)\n",
    "    d7 = Conv2D(1, (3, 3), activation='sigmoid', padding='same')(d6)\n",
    "    return Model(input_img, d7)"
   ]
  },
  {
   "cell_type": "code",
   "execution_count": 2,
   "metadata": {},
   "outputs": [],
   "source": [
    "# define input to the model:\n",
    "x = Input(shape=(28, 28, 1))\n",
    "\n",
    "# make the model:\n",
    "autoencoder = Model(x, Decoder()(Encoder()(x)))\n",
    "\n",
    "# compile the model:\n",
    "autoencoder.compile(optimizer='adadelta', loss='binary_crossentropy')"
   ]
  },
  {
   "cell_type": "code",
   "execution_count": 3,
   "metadata": {},
   "outputs": [
    {
     "name": "stdout",
     "output_type": "stream",
     "text": [
      "_________________________________________________________________\n",
      "Layer (type)                 Output Shape              Param #   \n",
      "=================================================================\n",
      "input_4 (InputLayer)         (None, 28, 28, 1)         0         \n",
      "_________________________________________________________________\n",
      "conv2d_8 (Conv2D)            (None, 28, 28, 16)        160       \n",
      "_________________________________________________________________\n",
      "max_pooling2d_4 (MaxPooling2 (None, 14, 14, 16)        0         \n",
      "_________________________________________________________________\n",
      "conv2d_9 (Conv2D)            (None, 14, 14, 8)         1160      \n",
      "_________________________________________________________________\n",
      "max_pooling2d_5 (MaxPooling2 (None, 7, 7, 8)           0         \n",
      "_________________________________________________________________\n",
      "conv2d_10 (Conv2D)           (None, 7, 7, 8)           584       \n",
      "_________________________________________________________________\n",
      "max_pooling2d_6 (MaxPooling2 (None, 4, 4, 8)           0         \n",
      "=================================================================\n",
      "Total params: 1,904\n",
      "Trainable params: 1,904\n",
      "Non-trainable params: 0\n",
      "_________________________________________________________________\n",
      "_________________________________________________________________\n",
      "Layer (type)                 Output Shape              Param #   \n",
      "=================================================================\n",
      "input_5 (InputLayer)         (None, 4, 4, 8)           0         \n",
      "_________________________________________________________________\n",
      "conv2d_11 (Conv2D)           (None, 4, 4, 8)           584       \n",
      "_________________________________________________________________\n",
      "up_sampling2d_4 (UpSampling2 (None, 8, 8, 8)           0         \n",
      "_________________________________________________________________\n",
      "conv2d_12 (Conv2D)           (None, 8, 8, 8)           584       \n",
      "_________________________________________________________________\n",
      "up_sampling2d_5 (UpSampling2 (None, 16, 16, 8)         0         \n",
      "_________________________________________________________________\n",
      "conv2d_13 (Conv2D)           (None, 14, 14, 16)        1168      \n",
      "_________________________________________________________________\n",
      "up_sampling2d_6 (UpSampling2 (None, 28, 28, 16)        0         \n",
      "_________________________________________________________________\n",
      "conv2d_14 (Conv2D)           (None, 28, 28, 1)         145       \n",
      "=================================================================\n",
      "Total params: 2,481\n",
      "Trainable params: 2,481\n",
      "Non-trainable params: 0\n",
      "_________________________________________________________________\n",
      "_________________________________________________________________\n",
      "Layer (type)                 Output Shape              Param #   \n",
      "=================================================================\n",
      "input_1 (InputLayer)         (None, 28, 28, 1)         0         \n",
      "_________________________________________________________________\n",
      "model_2 (Model)              (None, 4, 4, 8)           1904      \n",
      "_________________________________________________________________\n",
      "model_1 (Model)              (None, 28, 28, 1)         2481      \n",
      "=================================================================\n",
      "Total params: 4,385\n",
      "Trainable params: 4,385\n",
      "Non-trainable params: 0\n",
      "_________________________________________________________________\n"
     ]
    }
   ],
   "source": [
    "# SEE INSIDE THE ENCODER AND DECODER:\n",
    "Encoder().summary()\n",
    "Decoder().summary()\n",
    "\n",
    "# IN FACT, OUT AUTOENCODER WILL BE A CONCATENATION OF TWO MODELS\n",
    "autoencoder.summary()"
   ]
  },
  {
   "cell_type": "code",
   "execution_count": 4,
   "metadata": {},
   "outputs": [],
   "source": [
    "# get the Dataset:\n",
    "\n",
    "from keras.datasets import mnist\n",
    "\n",
    "(x_train, _), (x_test, _) = mnist.load_data()\n",
    "\n",
    "x_train = x_train.astype('float32') / 255.\n",
    "x_test = x_test.astype('float32') / 255.\n",
    "x_train = np.reshape(x_train, (len(x_train), 28, 28, 1))  # adapt this if using `channels_first` image data format\n",
    "x_test = np.reshape(x_test, (len(x_test), 28, 28, 1))  # adapt this if using `channels_first` image data format"
   ]
  },
  {
   "cell_type": "code",
   "execution_count": 5,
   "metadata": {},
   "outputs": [],
   "source": [
    "# OR YOU CAN READ IN THE WHOLE MODEL WITH ITS WEIGHTS:\n",
    "autoencoder = load_model('my_model.h5')\n",
    "\n",
    "# OR YOU CAN FIRST DEFINE ANC COMPILE A MODEL, THEN READ IN ONLY THE WEIGHTS\n",
    "# autoencoder.load_weights('my_model_weights.h5')"
   ]
  },
  {
   "cell_type": "code",
   "execution_count": 5,
   "metadata": {},
   "outputs": [
    {
     "data": {
      "text/plain": [
       "(1, 28, 28, 1)"
      ]
     },
     "execution_count": 5,
     "metadata": {},
     "output_type": "execute_result"
    }
   ],
   "source": [
    "np.expand_dims(x_test[1000,], axis=0).shape"
   ]
  },
  {
   "cell_type": "code",
   "execution_count": 5,
   "metadata": {},
   "outputs": [
    {
     "data": {
      "text/plain": [
       "<matplotlib.image.AxesImage at 0x7fa8d77d6630>"
      ]
     },
     "execution_count": 5,
     "metadata": {},
     "output_type": "execute_result"
    },
    {
     "data": {
      "image/png": "[encoded data removed]",
      "text/plain": [
       "<matplotlib.figure.Figure at 0x7fa94019bf28>"
      ]
     },
     "metadata": {},
     "output_type": "display_data"
    }
   ],
   "source": [
    "# Try if the pre-trained (or if you didn't load, a yet-untrained) model.\n",
    "# If it shows nothing, then it's just not trained yet.\n",
    "\n",
    "%matplotlib inline\n",
    "pr = autoencoder.predict(np.expand_dims(x_test[1000,], axis=0)).reshape(28,28)\n",
    "plt.imshow(pr)"
   ]
  },
  {
   "cell_type": "code",
   "execution_count": 6,
   "metadata": {},
   "outputs": [
    {
     "name": "stdout",
     "output_type": "stream",
     "text": [
      "Train on 60000 samples, validate on 10000 samples\n",
      "Epoch 1/10\n",
      "60000/60000 [==============================] - 5s 83us/step - loss: 0.2100 - val_loss: 0.1630\n",
      "Epoch 2/10\n",
      "60000/60000 [==============================] - 5s 80us/step - loss: 0.1519 - val_loss: 0.1392\n",
      "Epoch 3/10\n",
      "60000/60000 [==============================] - 5s 79us/step - loss: 0.1357 - val_loss: 0.1398\n",
      "Epoch 4/10\n",
      "60000/60000 [==============================] - 5s 80us/step - loss: 0.1280 - val_loss: 0.1250\n",
      "Epoch 5/10\n",
      "60000/60000 [==============================] - 5s 80us/step - loss: 0.1233 - val_loss: 0.1188\n",
      "Epoch 6/10\n",
      "60000/60000 [==============================] - 5s 80us/step - loss: 0.1203 - val_loss: 0.1197\n",
      "Epoch 7/10\n",
      "60000/60000 [==============================] - 5s 79us/step - loss: 0.1179 - val_loss: 0.1189\n",
      "Epoch 8/10\n",
      "60000/60000 [==============================] - 5s 80us/step - loss: 0.1161 - val_loss: 0.1150\n",
      "Epoch 9/10\n",
      "60000/60000 [==============================] - 5s 79us/step - loss: 0.1144 - val_loss: 0.1141\n",
      "Epoch 10/10\n",
      "60000/60000 [==============================] - 5s 80us/step - loss: 0.1131 - val_loss: 0.1120\n"
     ]
    }
   ],
   "source": [
    "# Training time!\n",
    "\n",
    "autoencoder.fit(x_train, x_train,\n",
    "                epochs=10,\n",
    "                batch_size=128,\n",
    "                shuffle=True,\n",
    "                validation_data=(x_test, x_test),\n",
    "                callbacks=[TensorBoard(log_dir='/home/amplifier/home/logs/ConvAutoMNIST')])\n",
    "\n",
    "# save the entire model and the weights after the training:\n",
    "autoencoder.save('my_model.h5')\n",
    "autoencoder.save_weights('my_model_weights.h5')"
   ]
  },
  {
   "cell_type": "code",
   "execution_count": 8,
   "metadata": {},
   "outputs": [
    {
     "data": {
      "image/png": "[encoded data removed]",
      "text/plain": [
       "<matplotlib.figure.Figure at 0x7fa7b6560208>"
      ]
     },
     "metadata": {},
     "output_type": "display_data"
    }
   ],
   "source": [
    "# now let's see how the model performs:\n",
    "\n",
    "decoded_imgs = autoencoder.predict(x_test)\n",
    "\n",
    "n = 11\n",
    "plt.figure(figsize=(20, 4))\n",
    "for i in range(1,n):\n",
    "    # display original\n",
    "    ax = plt.subplot(2, n, i)\n",
    "    plt.imshow(x_test[i].reshape(28, 28))\n",
    "    plt.gray()\n",
    "    ax.get_xaxis().set_visible(False)\n",
    "    ax.get_yaxis().set_visible(False)\n",
    "\n",
    "    # display reconstruction\n",
    "    ax = plt.subplot(2, n, i + n)\n",
    "    plt.imshow(decoded_imgs[i].reshape(28, 28))\n",
    "    plt.gray()\n",
    "    ax.get_xaxis().set_visible(False)\n",
    "    ax.get_yaxis().set_visible(False)\n",
    "plt.show()"
   ]
  },
  {
   "cell_type": "code",
   "execution_count": 9,
   "metadata": {},
   "outputs": [
    {
     "data": {
      "image/png": "[encoded data removed]",
      "text/plain": [
       "<matplotlib.figure.Figure at 0x7f73620d8f98>"
      ]
     },
     "metadata": {},
     "output_type": "display_data"
    }
   ],
   "source": [
    "# See the hidden representations:\n",
    "\n",
    "encoded_imgs = Encoder().predict(x_test)\n",
    "n = 11\n",
    "plt.figure(figsize=(20, 8))\n",
    "for i in range(1,n):\n",
    "    ax = plt.subplot(1, n, i)\n",
    "    plt.imshow(encoded_imgs[i].reshape(4, 4 * 8).T)\n",
    "    plt.gray()\n",
    "    ax.get_xaxis().set_visible(False)\n",
    "    ax.get_yaxis().set_visible(False)\n",
    "plt.show()"
   ]
  },
  {
   "cell_type": "code",
   "execution_count": 14,
   "metadata": {},
   "outputs": [
    {
     "name": "stdout",
     "output_type": "stream",
     "text": [
      "(1, 4, 4, 8)\n",
      "(1, 28, 28, 1)\n",
      "(1, 28, 28, 1)\n"
     ]
    },
    {
     "data": {
      "image/png": "[encoded data removed]",
      "text/plain": [
       "<matplotlib.figure.Figure at 0x7f73b00abc88>"
      ]
     },
     "metadata": {},
     "output_type": "display_data"
    }
   ],
   "source": [
    "# NOW, let's use the hidden representations to reconstruct the figures:\n",
    "# YOU COULD SLIGHTLY CHANGE THE HIDDEN REPRESENTATIONS AND SEE WHAT HAPPENS (for more see the notebook DenseAutoencoder)\n",
    "\n",
    "\n",
    "%matplotlib inline\n",
    "prediction1 = autoencoder.layers[1].predict(np.expand_dims(x_test[1000,], axis=0))\n",
    "print(prediction1.shape)\n",
    "ax = plt.subplot(1,3,1)\n",
    "dump = ax.set_title(\"Hidden represnetations\")\n",
    "dump = ax.imshow(prediction1.reshape(4, 4*8))\n",
    "\n",
    "ax2 = plt.subplot(1,3,2)\n",
    "prediction2 = autoencoder.layers[2].predict(prediction1)\n",
    "print(prediction2.shape)\n",
    "dump = ax2.imshow(prediction2.reshape(28,28))\n",
    "dump = ax2.set_title('Decoder')\n",
    "\n",
    "ax3 = plt.subplot(1,3,3)\n",
    "prediction3 = autoencoder.predict(np.expand_dims(x_test[1000,], axis=0))\n",
    "print(prediction3.shape)\n",
    "dump = ax3.imshow(prediction3.reshape(28,28))\n",
    "dump = ax3.set_title('AUTOencoder')\n"
   ]
  },
  {
   "cell_type": "code",
   "execution_count": 15,
   "metadata": {},
   "outputs": [
    {
     "ename": "TclError",
     "evalue": "couldn't connect to display \":1\"",
     "output_type": "error",
     "traceback": [
      "\u001b[0;31m---------------------------------------------------------------------------\u001b[0m",
      "\u001b[0;31mTclError\u001b[0m                                  Traceback (most recent call last)",
      "\u001b[0;32m<ipython-input-15-412c61b58abc>\u001b[0m in \u001b[0;36m<module>\u001b[0;34m()\u001b[0m\n\u001b[1;32m     10\u001b[0m    \u001b[0mw\u001b[0m\u001b[0;34m.\u001b[0m\u001b[0mcreate_oval\u001b[0m\u001b[0;34m(\u001b[0m \u001b[0mx1\u001b[0m\u001b[0;34m,\u001b[0m \u001b[0my1\u001b[0m\u001b[0;34m,\u001b[0m \u001b[0mx2\u001b[0m\u001b[0;34m,\u001b[0m \u001b[0my2\u001b[0m\u001b[0;34m,\u001b[0m \u001b[0mfill\u001b[0m \u001b[0;34m=\u001b[0m \u001b[0mpython_green\u001b[0m \u001b[0;34m)\u001b[0m\u001b[0;34m\u001b[0m\u001b[0m\n\u001b[1;32m     11\u001b[0m \u001b[0;34m\u001b[0m\u001b[0m\n\u001b[0;32m---> 12\u001b[0;31m \u001b[0mmaster\u001b[0m \u001b[0;34m=\u001b[0m \u001b[0mTk\u001b[0m\u001b[0;34m(\u001b[0m\u001b[0;34m)\u001b[0m\u001b[0;34m\u001b[0m\u001b[0m\n\u001b[0m\u001b[1;32m     13\u001b[0m \u001b[0mmaster\u001b[0m\u001b[0;34m.\u001b[0m\u001b[0mtitle\u001b[0m\u001b[0;34m(\u001b[0m \u001b[0;34m\"Painting using Ovals\"\u001b[0m \u001b[0;34m)\u001b[0m\u001b[0;34m\u001b[0m\u001b[0m\n\u001b[1;32m     14\u001b[0m w = Canvas(master, \n",
      "\u001b[0;32m/opt/conda/lib/python3.6/tkinter/__init__.py\u001b[0m in \u001b[0;36m__init__\u001b[0;34m(self, screenName, baseName, className, useTk, sync, use)\u001b[0m\n\u001b[1;32m   2015\u001b[0m                 \u001b[0mbaseName\u001b[0m \u001b[0;34m=\u001b[0m \u001b[0mbaseName\u001b[0m \u001b[0;34m+\u001b[0m \u001b[0mext\u001b[0m\u001b[0;34m\u001b[0m\u001b[0m\n\u001b[1;32m   2016\u001b[0m         \u001b[0minteractive\u001b[0m \u001b[0;34m=\u001b[0m \u001b[0;36m0\u001b[0m\u001b[0;34m\u001b[0m\u001b[0m\n\u001b[0;32m-> 2017\u001b[0;31m         \u001b[0mself\u001b[0m\u001b[0;34m.\u001b[0m\u001b[0mtk\u001b[0m \u001b[0;34m=\u001b[0m \u001b[0m_tkinter\u001b[0m\u001b[0;34m.\u001b[0m\u001b[0mcreate\u001b[0m\u001b[0;34m(\u001b[0m\u001b[0mscreenName\u001b[0m\u001b[0;34m,\u001b[0m \u001b[0mbaseName\u001b[0m\u001b[0;34m,\u001b[0m \u001b[0mclassName\u001b[0m\u001b[0;34m,\u001b[0m \u001b[0minteractive\u001b[0m\u001b[0;34m,\u001b[0m \u001b[0mwantobjects\u001b[0m\u001b[0;34m,\u001b[0m \u001b[0museTk\u001b[0m\u001b[0;34m,\u001b[0m \u001b[0msync\u001b[0m\u001b[0;34m,\u001b[0m \u001b[0muse\u001b[0m\u001b[0;34m)\u001b[0m\u001b[0;34m\u001b[0m\u001b[0m\n\u001b[0m\u001b[1;32m   2018\u001b[0m         \u001b[0;32mif\u001b[0m \u001b[0museTk\u001b[0m\u001b[0;34m:\u001b[0m\u001b[0;34m\u001b[0m\u001b[0m\n\u001b[1;32m   2019\u001b[0m             \u001b[0mself\u001b[0m\u001b[0;34m.\u001b[0m\u001b[0m_loadtk\u001b[0m\u001b[0;34m(\u001b[0m\u001b[0;34m)\u001b[0m\u001b[0;34m\u001b[0m\u001b[0m\n",
      "\u001b[0;31mTclError\u001b[0m: couldn't connect to display \":1\""
     ]
    }
   ],
   "source": [
    "from tkinter import *\n",
    "\n",
    "canvas_width = 500\n",
    "canvas_height = 150\n",
    "\n",
    "def paint( event ):\n",
    "   python_green = \"#476042\"\n",
    "   x1, y1 = ( event.x - 1 ), ( event.y - 1 )\n",
    "   x2, y2 = ( event.x + 1 ), ( event.y + 1 )\n",
    "   w.create_oval( x1, y1, x2, y2, fill = python_green )\n",
    "\n",
    "master = Tk()\n",
    "master.title( \"Painting using Ovals\" )\n",
    "w = Canvas(master, \n",
    "           width=canvas_width, \n",
    "           height=canvas_height)\n",
    "w.pack(expand = YES, fill = BOTH)\n",
    "w.bind( \"<B1-Motion>\", paint )\n",
    "\n",
    "message = Label( master, text = \"Press and Drag the mouse to draw\" )\n",
    "message.pack( side = BOTTOM )\n",
    "    \n",
    "mainloop()"
   ]
  },
  {
   "cell_type": "code",
   "execution_count": null,
   "metadata": {},
   "outputs": [],
   "source": []
  }
 ],
 "metadata": {
  "kernelspec": {
   "display_name": "Python 3",
   "language": "python",
   "name": "python3"
  },
  "language_info": {
   "codemirror_mode": {
    "name": "ipython",
    "version": 3
   },
   "file_extension": ".py",
   "mimetype": "text/x-python",
   "name": "python",
   "nbconvert_exporter": "python",
   "pygments_lexer": "ipython3",
   "version": "3.6.6"
  }
 },
 "nbformat": 4,
 "nbformat_minor": 2
}
